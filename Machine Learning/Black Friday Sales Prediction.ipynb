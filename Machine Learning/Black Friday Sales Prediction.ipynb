{
 "cells": [
  {
   "cell_type": "markdown",
   "id": "0293dcf8",
   "metadata": {},
   "source": [
    "## Black Friday Sales Prediction\n",
    "Predicting Black Friday sales is crucial for retailers to optimize inventory and marketing strategies. This dataset contains information about customer demographics, product categories, purchase amounts, and more. By leveraging this data, machine learning models can be trained to forecast sales trends and make data-driven decisions. Factors such as customer age, gender, marital status, and product category preferences may influence purchase behavior. Additionally, historical Black Friday sales data can be used to identify patterns and seasonality, enabling accurate predictions. Ultimately, this predictive analysis can guide retailers in targeting specific customer segments and tailoring promotions to maximize revenue during this high-stakes shopping event."
   ]
  },
  {
   "cell_type": "markdown",
   "id": "3ddbbff9",
   "metadata": {},
   "source": [
    "## Importing Nassaries Libraries."
   ]
  },
  {
   "cell_type": "code",
   "execution_count": 1,
   "id": "3fec1af5",
   "metadata": {},
   "outputs": [],
   "source": [
    "import pandas as pd\n",
    "import numpy as np\n",
    "import seaborn as sns\n",
    "import matplotlib.pyplot as plt\n",
    "\n",
    "\n",
    "import warnings\n",
    "warnings.filterwarnings(\"ignore\")"
   ]
  },
  {
   "cell_type": "markdown",
   "id": "522ecc01",
   "metadata": {},
   "source": [
    "# Load train dataset "
   ]
  },
  {
   "cell_type": "code",
   "execution_count": 2,
   "id": "77482a7f",
   "metadata": {},
   "outputs": [
    {
     "data": {
      "text/html": [
       "<div>\n",
       "<style scoped>\n",
       "    .dataframe tbody tr th:only-of-type {\n",
       "        vertical-align: middle;\n",
       "    }\n",
       "\n",
       "    .dataframe tbody tr th {\n",
       "        vertical-align: top;\n",
       "    }\n",
       "\n",
       "    .dataframe thead th {\n",
       "        text-align: right;\n",
       "    }\n",
       "</style>\n",
       "<table border=\"1\" class=\"dataframe\">\n",
       "  <thead>\n",
       "    <tr style=\"text-align: right;\">\n",
       "      <th></th>\n",
       "      <th>User_ID</th>\n",
       "      <th>Product_ID</th>\n",
       "      <th>Gender</th>\n",
       "      <th>Age</th>\n",
       "      <th>Occupation</th>\n",
       "      <th>City_Category</th>\n",
       "      <th>Stay_In_Current_City_Years</th>\n",
       "      <th>Marital_Status</th>\n",
       "      <th>Product_Category_1</th>\n",
       "      <th>Product_Category_2</th>\n",
       "      <th>Product_Category_3</th>\n",
       "      <th>Purchase</th>\n",
       "    </tr>\n",
       "  </thead>\n",
       "  <tbody>\n",
       "    <tr>\n",
       "      <th>0</th>\n",
       "      <td>1000001</td>\n",
       "      <td>P00069042</td>\n",
       "      <td>F</td>\n",
       "      <td>0-17</td>\n",
       "      <td>10</td>\n",
       "      <td>A</td>\n",
       "      <td>2</td>\n",
       "      <td>0</td>\n",
       "      <td>3</td>\n",
       "      <td>NaN</td>\n",
       "      <td>NaN</td>\n",
       "      <td>8370</td>\n",
       "    </tr>\n",
       "    <tr>\n",
       "      <th>1</th>\n",
       "      <td>1000001</td>\n",
       "      <td>P00248942</td>\n",
       "      <td>F</td>\n",
       "      <td>0-17</td>\n",
       "      <td>10</td>\n",
       "      <td>A</td>\n",
       "      <td>2</td>\n",
       "      <td>0</td>\n",
       "      <td>1</td>\n",
       "      <td>6.0</td>\n",
       "      <td>14.0</td>\n",
       "      <td>15200</td>\n",
       "    </tr>\n",
       "    <tr>\n",
       "      <th>2</th>\n",
       "      <td>1000001</td>\n",
       "      <td>P00087842</td>\n",
       "      <td>F</td>\n",
       "      <td>0-17</td>\n",
       "      <td>10</td>\n",
       "      <td>A</td>\n",
       "      <td>2</td>\n",
       "      <td>0</td>\n",
       "      <td>12</td>\n",
       "      <td>NaN</td>\n",
       "      <td>NaN</td>\n",
       "      <td>1422</td>\n",
       "    </tr>\n",
       "    <tr>\n",
       "      <th>3</th>\n",
       "      <td>1000001</td>\n",
       "      <td>P00085442</td>\n",
       "      <td>F</td>\n",
       "      <td>0-17</td>\n",
       "      <td>10</td>\n",
       "      <td>A</td>\n",
       "      <td>2</td>\n",
       "      <td>0</td>\n",
       "      <td>12</td>\n",
       "      <td>14.0</td>\n",
       "      <td>NaN</td>\n",
       "      <td>1057</td>\n",
       "    </tr>\n",
       "    <tr>\n",
       "      <th>4</th>\n",
       "      <td>1000002</td>\n",
       "      <td>P00285442</td>\n",
       "      <td>M</td>\n",
       "      <td>55+</td>\n",
       "      <td>16</td>\n",
       "      <td>C</td>\n",
       "      <td>4+</td>\n",
       "      <td>0</td>\n",
       "      <td>8</td>\n",
       "      <td>NaN</td>\n",
       "      <td>NaN</td>\n",
       "      <td>7969</td>\n",
       "    </tr>\n",
       "  </tbody>\n",
       "</table>\n",
       "</div>"
      ],
      "text/plain": [
       "   User_ID Product_ID Gender   Age  Occupation City_Category  \\\n",
       "0  1000001  P00069042      F  0-17          10             A   \n",
       "1  1000001  P00248942      F  0-17          10             A   \n",
       "2  1000001  P00087842      F  0-17          10             A   \n",
       "3  1000001  P00085442      F  0-17          10             A   \n",
       "4  1000002  P00285442      M   55+          16             C   \n",
       "\n",
       "  Stay_In_Current_City_Years  Marital_Status  Product_Category_1  \\\n",
       "0                          2               0                   3   \n",
       "1                          2               0                   1   \n",
       "2                          2               0                  12   \n",
       "3                          2               0                  12   \n",
       "4                         4+               0                   8   \n",
       "\n",
       "   Product_Category_2  Product_Category_3  Purchase  \n",
       "0                 NaN                 NaN      8370  \n",
       "1                 6.0                14.0     15200  \n",
       "2                 NaN                 NaN      1422  \n",
       "3                14.0                 NaN      1057  \n",
       "4                 NaN                 NaN      7969  "
      ]
     },
     "execution_count": 2,
     "metadata": {},
     "output_type": "execute_result"
    }
   ],
   "source": [
    "df_train = pd.read_csv(r\"C:\\Users\\Dell\\Downloads\\black firday sales\\train.csv\")\n",
    "df_train.head()"
   ]
  },
  {
   "cell_type": "code",
   "execution_count": 3,
   "id": "939fe279",
   "metadata": {},
   "outputs": [
    {
     "data": {
      "text/plain": [
       "(550068, 12)"
      ]
     },
     "execution_count": 3,
     "metadata": {},
     "output_type": "execute_result"
    }
   ],
   "source": [
    "#check data shape \n",
    "df_train.shape"
   ]
  },
  {
   "cell_type": "code",
   "execution_count": 4,
   "id": "3c4c0ffa",
   "metadata": {},
   "outputs": [
    {
     "data": {
      "text/plain": [
       "0"
      ]
     },
     "execution_count": 4,
     "metadata": {},
     "output_type": "execute_result"
    }
   ],
   "source": [
    "#check duplicate values\n",
    "df_train.duplicated().sum()"
   ]
  },
  {
   "cell_type": "code",
   "execution_count": 5,
   "id": "109aaa72",
   "metadata": {},
   "outputs": [
    {
     "data": {
      "text/plain": [
       "User_ID                            0\n",
       "Product_ID                         0\n",
       "Gender                             0\n",
       "Age                                0\n",
       "Occupation                         0\n",
       "City_Category                      0\n",
       "Stay_In_Current_City_Years         0\n",
       "Marital_Status                     0\n",
       "Product_Category_1                 0\n",
       "Product_Category_2            173638\n",
       "Product_Category_3            383247\n",
       "Purchase                           0\n",
       "dtype: int64"
      ]
     },
     "execution_count": 5,
     "metadata": {},
     "output_type": "execute_result"
    }
   ],
   "source": [
    "#checking missing values\n",
    "df_train.isna().sum()"
   ]
  },
  {
   "cell_type": "code",
   "execution_count": 6,
   "id": "23bdc790",
   "metadata": {},
   "outputs": [
    {
     "data": {
      "text/plain": [
       "<AxesSubplot:>"
      ]
     },
     "execution_count": 6,
     "metadata": {},
     "output_type": "execute_result"
    },
    {
     "data": {
      "image/png": "[encoded data removed]",
      "text/plain": [
       "<Figure size 432x288 with 2 Axes>"
      ]
     },
     "metadata": {
      "needs_background": "light"
     },
     "output_type": "display_data"
    }
   ],
   "source": [
    "#visualazation null values using heatmap\n",
    "sns.heatmap(df_train.isna())"
   ]
  },
  {
   "cell_type": "code",
   "execution_count": 12,
   "id": "9174ef95",
   "metadata": {},
   "outputs": [
    {
     "data": {
      "text/html": [
       "<div>\n",
       "<style scoped>\n",
       "    .dataframe tbody tr th:only-of-type {\n",
       "        vertical-align: middle;\n",
       "    }\n",
       "\n",
       "    .dataframe tbody tr th {\n",
       "        vertical-align: top;\n",
       "    }\n",
       "\n",
       "    .dataframe thead th {\n",
       "        text-align: right;\n",
       "    }\n",
       "</style>\n",
       "<table border=\"1\" class=\"dataframe\">\n",
       "  <thead>\n",
       "    <tr style=\"text-align: right;\">\n",
       "      <th></th>\n",
       "      <th>count</th>\n",
       "      <th>mean</th>\n",
       "      <th>std</th>\n",
       "      <th>min</th>\n",
       "      <th>25%</th>\n",
       "      <th>50%</th>\n",
       "      <th>75%</th>\n",
       "      <th>max</th>\n",
       "    </tr>\n",
       "  </thead>\n",
       "  <tbody>\n",
       "    <tr>\n",
       "      <th>User_ID</th>\n",
       "      <td>550068.0</td>\n",
       "      <td>1.003029e+06</td>\n",
       "      <td>1727.591586</td>\n",
       "      <td>1000001.0</td>\n",
       "      <td>1001516.0</td>\n",
       "      <td>1003077.0</td>\n",
       "      <td>1004478.0</td>\n",
       "      <td>1006040.0</td>\n",
       "    </tr>\n",
       "    <tr>\n",
       "      <th>Occupation</th>\n",
       "      <td>550068.0</td>\n",
       "      <td>8.076707e+00</td>\n",
       "      <td>6.522660</td>\n",
       "      <td>0.0</td>\n",
       "      <td>2.0</td>\n",
       "      <td>7.0</td>\n",
       "      <td>14.0</td>\n",
       "      <td>20.0</td>\n",
       "    </tr>\n",
       "    <tr>\n",
       "      <th>Marital_Status</th>\n",
       "      <td>550068.0</td>\n",
       "      <td>4.096530e-01</td>\n",
       "      <td>0.491770</td>\n",
       "      <td>0.0</td>\n",
       "      <td>0.0</td>\n",
       "      <td>0.0</td>\n",
       "      <td>1.0</td>\n",
       "      <td>1.0</td>\n",
       "    </tr>\n",
       "    <tr>\n",
       "      <th>Product_Category_1</th>\n",
       "      <td>550068.0</td>\n",
       "      <td>5.404270e+00</td>\n",
       "      <td>3.936211</td>\n",
       "      <td>1.0</td>\n",
       "      <td>1.0</td>\n",
       "      <td>5.0</td>\n",
       "      <td>8.0</td>\n",
       "      <td>20.0</td>\n",
       "    </tr>\n",
       "    <tr>\n",
       "      <th>Product_Category_2</th>\n",
       "      <td>376430.0</td>\n",
       "      <td>9.842329e+00</td>\n",
       "      <td>5.086590</td>\n",
       "      <td>2.0</td>\n",
       "      <td>5.0</td>\n",
       "      <td>9.0</td>\n",
       "      <td>15.0</td>\n",
       "      <td>18.0</td>\n",
       "    </tr>\n",
       "    <tr>\n",
       "      <th>Product_Category_3</th>\n",
       "      <td>166821.0</td>\n",
       "      <td>1.266824e+01</td>\n",
       "      <td>4.125338</td>\n",
       "      <td>3.0</td>\n",
       "      <td>9.0</td>\n",
       "      <td>14.0</td>\n",
       "      <td>16.0</td>\n",
       "      <td>18.0</td>\n",
       "    </tr>\n",
       "    <tr>\n",
       "      <th>Purchase</th>\n",
       "      <td>550068.0</td>\n",
       "      <td>9.263969e+03</td>\n",
       "      <td>5023.065394</td>\n",
       "      <td>12.0</td>\n",
       "      <td>5823.0</td>\n",
       "      <td>8047.0</td>\n",
       "      <td>12054.0</td>\n",
       "      <td>23961.0</td>\n",
       "    </tr>\n",
       "  </tbody>\n",
       "</table>\n",
       "</div>"
      ],
      "text/plain": [
       "                       count          mean          std        min        25%  \\\n",
       "User_ID             550068.0  1.003029e+06  1727.591586  1000001.0  1001516.0   \n",
       "Occupation          550068.0  8.076707e+00     6.522660        0.0        2.0   \n",
       "Marital_Status      550068.0  4.096530e-01     0.491770        0.0        0.0   \n",
       "Product_Category_1  550068.0  5.404270e+00     3.936211        1.0        1.0   \n",
       "Product_Category_2  376430.0  9.842329e+00     5.086590        2.0        5.0   \n",
       "Product_Category_3  166821.0  1.266824e+01     4.125338        3.0        9.0   \n",
       "Purchase            550068.0  9.263969e+03  5023.065394       12.0     5823.0   \n",
       "\n",
       "                          50%        75%        max  \n",
       "User_ID             1003077.0  1004478.0  1006040.0  \n",
       "Occupation                7.0       14.0       20.0  \n",
       "Marital_Status            0.0        1.0        1.0  \n",
       "Product_Category_1        5.0        8.0       20.0  \n",
       "Product_Category_2        9.0       15.0       18.0  \n",
       "Product_Category_3       14.0       16.0       18.0  \n",
       "Purchase               8047.0    12054.0    23961.0  "
      ]
     },
     "execution_count": 12,
     "metadata": {},
     "output_type": "execute_result"
    }
   ],
   "source": [
    "df_train.describe().T"
   ]
  },
  {
   "cell_type": "code",
   "execution_count": 13,
   "id": "4cd317c1",
   "metadata": {},
   "outputs": [],
   "source": [
    "#fill the null values \n",
    "df_train[\"Product_Category_2\"] = df_train[\"Product_Category_2\"].fillna(df_train[\"Product_Category_2\"].median())\n",
    "df_train[\"Product_Category_3\"] = df_train[\"Product_Category_3\"].fillna(df_train[\"Product_Category_3\"].median())"
   ]
  },
  {
   "cell_type": "code",
   "execution_count": 14,
   "id": "b6026973",
   "metadata": {},
   "outputs": [
    {
     "data": {
      "text/plain": [
       "User_ID                       0\n",
       "Product_ID                    0\n",
       "Gender                        0\n",
       "Age                           0\n",
       "Occupation                    0\n",
       "City_Category                 0\n",
       "Stay_In_Current_City_Years    0\n",
       "Marital_Status                0\n",
       "Product_Category_1            0\n",
       "Product_Category_2            0\n",
       "Product_Category_3            0\n",
       "Purchase                      0\n",
       "dtype: int64"
      ]
     },
     "execution_count": 14,
     "metadata": {},
     "output_type": "execute_result"
    }
   ],
   "source": [
    "df_train.isna().sum()"
   ]
  },
  {
   "cell_type": "code",
   "execution_count": 15,
   "id": "973aa51e",
   "metadata": {},
   "outputs": [
    {
     "name": "stdout",
     "output_type": "stream",
     "text": [
      "<class 'pandas.core.frame.DataFrame'>\n",
      "RangeIndex: 550068 entries, 0 to 550067\n",
      "Data columns (total 12 columns):\n",
      " #   Column                      Non-Null Count   Dtype  \n",
      "---  ------                      --------------   -----  \n",
      " 0   User_ID                     550068 non-null  int64  \n",
      " 1   Product_ID                  550068 non-null  object \n",
      " 2   Gender                      550068 non-null  object \n",
      " 3   Age                         550068 non-null  object \n",
      " 4   Occupation                  550068 non-null  int64  \n",
      " 5   City_Category               550068 non-null  object \n",
      " 6   Stay_In_Current_City_Years  550068 non-null  object \n",
      " 7   Marital_Status              550068 non-null  int64  \n",
      " 8   Product_Category_1          550068 non-null  int64  \n",
      " 9   Product_Category_2          550068 non-null  float64\n",
      " 10  Product_Category_3          550068 non-null  float64\n",
      " 11  Purchase                    550068 non-null  int64  \n",
      "dtypes: float64(2), int64(5), object(5)\n",
      "memory usage: 50.4+ MB\n"
     ]
    }
   ],
   "source": [
    "df_train.info()"
   ]
  },
  {
   "cell_type": "code",
   "execution_count": 16,
   "id": "af092ab9",
   "metadata": {},
   "outputs": [
    {
     "name": "stdout",
     "output_type": "stream",
     "text": [
      "User_ID\n",
      "[1000001 1000002 1000003 ... 1004113 1005391 1001529]\n",
      "Product_ID\n",
      "['P00069042' 'P00248942' 'P00087842' ... 'P00370293' 'P00371644'\n",
      " 'P00370853']\n",
      "Gender\n",
      "['F' 'M']\n",
      "Age\n",
      "['0-17' '55+' '26-35' '46-50' '51-55' '36-45' '18-25']\n",
      "Occupation\n",
      "[10 16 15  7 20  9  1 12 17  0  3  4 11  8 19  2 18  5 14 13  6]\n",
      "City_Category\n",
      "['A' 'C' 'B']\n",
      "Stay_In_Current_City_Years\n",
      "['2' '4+' '3' '1' '0']\n",
      "Marital_Status\n",
      "[0 1]\n",
      "Product_Category_1\n",
      "[ 3  1 12  8  5  4  2  6 14 11 13 15  7 16 18 10 17  9 20 19]\n",
      "Product_Category_2\n",
      "[ 9.  6. 14.  2.  8. 15. 16. 11.  5.  3.  4. 12. 10. 17. 13.  7. 18.]\n",
      "Product_Category_3\n",
      "[14. 17.  5.  4. 16. 15.  8.  9. 13.  6. 12.  3. 18. 11. 10.]\n",
      "Purchase\n",
      "[ 8370 15200  1422 ...   135   123   613]\n"
     ]
    }
   ],
   "source": [
    "# unique values check by each of column\n",
    "for i in df_train.columns:\n",
    "    print(i)\n",
    "    print(df_train[i].unique())"
   ]
  },
  {
   "cell_type": "markdown",
   "id": "3c383fe2",
   "metadata": {},
   "source": [
    "## Data Visualization for data adastaning perfuse."
   ]
  },
  {
   "cell_type": "code",
   "execution_count": 17,
   "id": "a453cbe9",
   "metadata": {},
   "outputs": [
    {
     "data": {
      "text/plain": [
       "Index(['Product_ID', 'Gender', 'Age', 'City_Category',\n",
       "       'Stay_In_Current_City_Years'],\n",
       "      dtype='object')"
      ]
     },
     "execution_count": 17,
     "metadata": {},
     "output_type": "execute_result"
    }
   ],
   "source": [
    "df_train.describe(include=\"object\").columns"
   ]
  },
  {
   "cell_type": "code",
   "execution_count": 18,
   "id": "b528e164",
   "metadata": {},
   "outputs": [
    {
     "data": {
      "image/png": "[encoded data removed]",
      "text/plain": [
       "<Figure size 1080x504 with 2 Axes>"
      ]
     },
     "metadata": {
      "needs_background": "light"
     },
     "output_type": "display_data"
    }
   ],
   "source": [
    "plt.figure(figsize=(15,7))\n",
    "plt.subplot(2,2,1)\n",
    "sns.countplot(df_train[\"Gender\"])\n",
    "\n",
    "\n",
    "plt.subplot(2,2,2)\n",
    "sns.countplot(df_train[\"Age\"])\n",
    "plt.show()\n",
    "\n"
   ]
  },
  {
   "cell_type": "code",
   "execution_count": 19,
   "id": "092bd4f5",
   "metadata": {},
   "outputs": [
    {
     "data": {
      "image/png": "[encoded data removed]",
      "text/plain": [
       "<Figure size 1080x504 with 2 Axes>"
      ]
     },
     "metadata": {
      "needs_background": "light"
     },
     "output_type": "display_data"
    }
   ],
   "source": [
    "plt.figure(figsize=(15,7))\n",
    "plt.subplot(2,2,1)\n",
    "sns.countplot(df_train[\"City_Category\"])\n",
    "\n",
    "\n",
    "plt.subplot(2,2,2)\n",
    "sns.countplot(df_train[\"Stay_In_Current_City_Years\"])\n",
    "plt.show()\n"
   ]
  },
  {
   "cell_type": "code",
   "execution_count": 20,
   "id": "be07eccd",
   "metadata": {},
   "outputs": [
    {
     "data": {
      "image/png": "[encoded data removed]",
      "text/plain": [
       "<Figure size 1080x720 with 9 Axes>"
      ]
     },
     "metadata": {
      "needs_background": "light"
     },
     "output_type": "display_data"
    }
   ],
   "source": [
    "df_train.hist(bins=25,figsize=(15,10))\n",
    "plt.show()"
   ]
  },
  {
   "cell_type": "markdown",
   "id": "da5f3e6f",
   "metadata": {},
   "source": [
    "## OrdinalEncoder"
   ]
  },
  {
   "cell_type": "code",
   "execution_count": 22,
   "id": "f05c0657",
   "metadata": {},
   "outputs": [],
   "source": [
    "# categorical caonvert to numberical data appling one hot codding tecknies\n",
    "\n",
    "cat_col = ['Gender', 'Age', 'City_Category','Stay_In_Current_City_Years']\n",
    "from sklearn.preprocessing import OrdinalEncoder\n",
    "\n",
    "encoding = OrdinalEncoder()\n",
    "df_train[cat_col] = encoding.fit_transform(df_train[cat_col])\n",
    " "
   ]
  },
  {
   "cell_type": "code",
   "execution_count": 23,
   "id": "211475d9",
   "metadata": {},
   "outputs": [
    {
     "data": {
      "text/html": [
       "<div>\n",
       "<style scoped>\n",
       "    .dataframe tbody tr th:only-of-type {\n",
       "        vertical-align: middle;\n",
       "    }\n",
       "\n",
       "    .dataframe tbody tr th {\n",
       "        vertical-align: top;\n",
       "    }\n",
       "\n",
       "    .dataframe thead th {\n",
       "        text-align: right;\n",
       "    }\n",
       "</style>\n",
       "<table border=\"1\" class=\"dataframe\">\n",
       "  <thead>\n",
       "    <tr style=\"text-align: right;\">\n",
       "      <th></th>\n",
       "      <th>User_ID</th>\n",
       "      <th>Product_ID</th>\n",
       "      <th>Gender</th>\n",
       "      <th>Age</th>\n",
       "      <th>Occupation</th>\n",
       "      <th>City_Category</th>\n",
       "      <th>Stay_In_Current_City_Years</th>\n",
       "      <th>Marital_Status</th>\n",
       "      <th>Product_Category_1</th>\n",
       "      <th>Product_Category_2</th>\n",
       "      <th>Product_Category_3</th>\n",
       "      <th>Purchase</th>\n",
       "    </tr>\n",
       "  </thead>\n",
       "  <tbody>\n",
       "    <tr>\n",
       "      <th>0</th>\n",
       "      <td>1000001</td>\n",
       "      <td>P00069042</td>\n",
       "      <td>0.0</td>\n",
       "      <td>0.0</td>\n",
       "      <td>10</td>\n",
       "      <td>0.0</td>\n",
       "      <td>2.0</td>\n",
       "      <td>0</td>\n",
       "      <td>3</td>\n",
       "      <td>9.0</td>\n",
       "      <td>14.0</td>\n",
       "      <td>8370</td>\n",
       "    </tr>\n",
       "    <tr>\n",
       "      <th>1</th>\n",
       "      <td>1000001</td>\n",
       "      <td>P00248942</td>\n",
       "      <td>0.0</td>\n",
       "      <td>0.0</td>\n",
       "      <td>10</td>\n",
       "      <td>0.0</td>\n",
       "      <td>2.0</td>\n",
       "      <td>0</td>\n",
       "      <td>1</td>\n",
       "      <td>6.0</td>\n",
       "      <td>14.0</td>\n",
       "      <td>15200</td>\n",
       "    </tr>\n",
       "  </tbody>\n",
       "</table>\n",
       "</div>"
      ],
      "text/plain": [
       "   User_ID Product_ID  Gender  Age  Occupation  City_Category  \\\n",
       "0  1000001  P00069042     0.0  0.0          10            0.0   \n",
       "1  1000001  P00248942     0.0  0.0          10            0.0   \n",
       "\n",
       "   Stay_In_Current_City_Years  Marital_Status  Product_Category_1  \\\n",
       "0                         2.0               0                   3   \n",
       "1                         2.0               0                   1   \n",
       "\n",
       "   Product_Category_2  Product_Category_3  Purchase  \n",
       "0                 9.0                14.0      8370  \n",
       "1                 6.0                14.0     15200  "
      ]
     },
     "execution_count": 23,
     "metadata": {},
     "output_type": "execute_result"
    }
   ],
   "source": [
    "df_train.head(2)"
   ]
  },
  {
   "cell_type": "code",
   "execution_count": 137,
   "id": "301e068c",
   "metadata": {},
   "outputs": [
    {
     "data": {
      "image/png": "[encoded data removed]",
      "text/plain": [
       "<Figure size 1080x504 with 2 Axes>"
      ]
     },
     "metadata": {
      "needs_background": "light"
     },
     "output_type": "display_data"
    }
   ],
   "source": [
    "plt.figure(figsize=(15,7))\n",
    "sns.heatmap(df_train.corr(),annot=True)\n",
    "plt.title(\"correlation between variables\",size=20)\n",
    "plt.show()"
   ]
  },
  {
   "cell_type": "markdown",
   "id": "67f4eb98",
   "metadata": {},
   "source": [
    "## x,y defind"
   ]
  },
  {
   "cell_type": "code",
   "execution_count": 25,
   "id": "cdedb4c5",
   "metadata": {},
   "outputs": [],
   "source": [
    "x = df_train.iloc[:,2:-1]\n",
    "y = df_train[\"Purchase\"]"
   ]
  },
  {
   "cell_type": "code",
   "execution_count": 26,
   "id": "562a2a1b",
   "metadata": {},
   "outputs": [
    {
     "data": {
      "text/html": [
       "<div>\n",
       "<style scoped>\n",
       "    .dataframe tbody tr th:only-of-type {\n",
       "        vertical-align: middle;\n",
       "    }\n",
       "\n",
       "    .dataframe tbody tr th {\n",
       "        vertical-align: top;\n",
       "    }\n",
       "\n",
       "    .dataframe thead th {\n",
       "        text-align: right;\n",
       "    }\n",
       "</style>\n",
       "<table border=\"1\" class=\"dataframe\">\n",
       "  <thead>\n",
       "    <tr style=\"text-align: right;\">\n",
       "      <th></th>\n",
       "      <th>Gender</th>\n",
       "      <th>Age</th>\n",
       "      <th>Occupation</th>\n",
       "      <th>City_Category</th>\n",
       "      <th>Stay_In_Current_City_Years</th>\n",
       "      <th>Marital_Status</th>\n",
       "      <th>Product_Category_1</th>\n",
       "      <th>Product_Category_2</th>\n",
       "      <th>Product_Category_3</th>\n",
       "    </tr>\n",
       "  </thead>\n",
       "  <tbody>\n",
       "    <tr>\n",
       "      <th>0</th>\n",
       "      <td>0.0</td>\n",
       "      <td>0.0</td>\n",
       "      <td>10</td>\n",
       "      <td>0.0</td>\n",
       "      <td>2.0</td>\n",
       "      <td>0</td>\n",
       "      <td>3</td>\n",
       "      <td>9.0</td>\n",
       "      <td>14.0</td>\n",
       "    </tr>\n",
       "    <tr>\n",
       "      <th>1</th>\n",
       "      <td>0.0</td>\n",
       "      <td>0.0</td>\n",
       "      <td>10</td>\n",
       "      <td>0.0</td>\n",
       "      <td>2.0</td>\n",
       "      <td>0</td>\n",
       "      <td>1</td>\n",
       "      <td>6.0</td>\n",
       "      <td>14.0</td>\n",
       "    </tr>\n",
       "    <tr>\n",
       "      <th>2</th>\n",
       "      <td>0.0</td>\n",
       "      <td>0.0</td>\n",
       "      <td>10</td>\n",
       "      <td>0.0</td>\n",
       "      <td>2.0</td>\n",
       "      <td>0</td>\n",
       "      <td>12</td>\n",
       "      <td>9.0</td>\n",
       "      <td>14.0</td>\n",
       "    </tr>\n",
       "    <tr>\n",
       "      <th>3</th>\n",
       "      <td>0.0</td>\n",
       "      <td>0.0</td>\n",
       "      <td>10</td>\n",
       "      <td>0.0</td>\n",
       "      <td>2.0</td>\n",
       "      <td>0</td>\n",
       "      <td>12</td>\n",
       "      <td>14.0</td>\n",
       "      <td>14.0</td>\n",
       "    </tr>\n",
       "    <tr>\n",
       "      <th>4</th>\n",
       "      <td>1.0</td>\n",
       "      <td>6.0</td>\n",
       "      <td>16</td>\n",
       "      <td>2.0</td>\n",
       "      <td>4.0</td>\n",
       "      <td>0</td>\n",
       "      <td>8</td>\n",
       "      <td>9.0</td>\n",
       "      <td>14.0</td>\n",
       "    </tr>\n",
       "  </tbody>\n",
       "</table>\n",
       "</div>"
      ],
      "text/plain": [
       "   Gender  Age  Occupation  City_Category  Stay_In_Current_City_Years  \\\n",
       "0     0.0  0.0          10            0.0                         2.0   \n",
       "1     0.0  0.0          10            0.0                         2.0   \n",
       "2     0.0  0.0          10            0.0                         2.0   \n",
       "3     0.0  0.0          10            0.0                         2.0   \n",
       "4     1.0  6.0          16            2.0                         4.0   \n",
       "\n",
       "   Marital_Status  Product_Category_1  Product_Category_2  Product_Category_3  \n",
       "0               0                   3                 9.0                14.0  \n",
       "1               0                   1                 6.0                14.0  \n",
       "2               0                  12                 9.0                14.0  \n",
       "3               0                  12                14.0                14.0  \n",
       "4               0                   8                 9.0                14.0  "
      ]
     },
     "execution_count": 26,
     "metadata": {},
     "output_type": "execute_result"
    }
   ],
   "source": [
    "x.head()"
   ]
  },
  {
   "cell_type": "code",
   "execution_count": 27,
   "id": "b03641d7",
   "metadata": {},
   "outputs": [
    {
     "data": {
      "text/plain": [
       "0     8370\n",
       "1    15200\n",
       "2     1422\n",
       "3     1057\n",
       "4     7969\n",
       "Name: Purchase, dtype: int64"
      ]
     },
     "execution_count": 27,
     "metadata": {},
     "output_type": "execute_result"
    }
   ],
   "source": [
    "y.head()"
   ]
  },
  {
   "cell_type": "markdown",
   "id": "69cd218c",
   "metadata": {},
   "source": [
    "## Train_Test_Split"
   ]
  },
  {
   "cell_type": "code",
   "execution_count": 28,
   "id": "c9bb0fc8",
   "metadata": {},
   "outputs": [
    {
     "name": "stdout",
     "output_type": "stream",
     "text": [
      "(385047, 9)\n",
      "(165021, 9)\n"
     ]
    }
   ],
   "source": [
    "from sklearn.model_selection import train_test_split\n",
    "\n",
    "\n",
    "xtrain,xtest,ytrain,ytest = train_test_split(x,y,test_size=0.30,random_state=43)\n",
    "print(xtrain.shape)\n",
    "print(xtest.shape)"
   ]
  },
  {
   "cell_type": "markdown",
   "id": "f277a2c3",
   "metadata": {},
   "source": [
    "## ML Model building"
   ]
  },
  {
   "cell_type": "code",
   "execution_count": 29,
   "id": "cfe1bbee",
   "metadata": {},
   "outputs": [
    {
     "name": "stdout",
     "output_type": "stream",
     "text": [
      "3588.1496415714623\n",
      "21972638.665007774\n",
      "4687.49812426712\n",
      "0.12800860993932384\n"
     ]
    }
   ],
   "source": [
    "from sklearn.linear_model import LinearRegression\n",
    "from sklearn.metrics import mean_absolute_error,mean_squared_error,r2_score\n",
    "\n",
    "Lr = LinearRegression()\n",
    "Lr.fit(xtrain,ytrain)\n",
    "\n",
    "y_pred = Lr.predict(xtest)\n",
    "\n",
    "\n",
    "print(mean_absolute_error(ytest,y_pred))\n",
    "print(mean_squared_error(ytest,y_pred))\n",
    "print(np.sqrt(mean_squared_error(ytest,y_pred)))\n",
    "print(r2_score(ytest,y_pred))\n",
    "\n"
   ]
  },
  {
   "cell_type": "markdown",
   "id": "077b4aaa",
   "metadata": {},
   "source": [
    "## StandardScaler for data normalization."
   ]
  },
  {
   "cell_type": "code",
   "execution_count": 30,
   "id": "2ddb03fd",
   "metadata": {},
   "outputs": [],
   "source": [
    "from sklearn.preprocessing import StandardScaler\n",
    "\n",
    "scaler = StandardScaler()\n",
    "xtrain = pd.DataFrame(scaler.fit_transform(xtrain),columns=xtrain.columns)\n",
    "xtest = pd.DataFrame(scaler.transform(xtest),columns=xtest.columns)"
   ]
  },
  {
   "cell_type": "code",
   "execution_count": 31,
   "id": "307f861d",
   "metadata": {},
   "outputs": [
    {
     "data": {
      "text/html": [
       "<div>\n",
       "<style scoped>\n",
       "    .dataframe tbody tr th:only-of-type {\n",
       "        vertical-align: middle;\n",
       "    }\n",
       "\n",
       "    .dataframe tbody tr th {\n",
       "        vertical-align: top;\n",
       "    }\n",
       "\n",
       "    .dataframe thead th {\n",
       "        text-align: right;\n",
       "    }\n",
       "</style>\n",
       "<table border=\"1\" class=\"dataframe\">\n",
       "  <thead>\n",
       "    <tr style=\"text-align: right;\">\n",
       "      <th></th>\n",
       "      <th>Gender</th>\n",
       "      <th>Age</th>\n",
       "      <th>Occupation</th>\n",
       "      <th>City_Category</th>\n",
       "      <th>Stay_In_Current_City_Years</th>\n",
       "      <th>Marital_Status</th>\n",
       "      <th>Product_Category_1</th>\n",
       "      <th>Product_Category_2</th>\n",
       "      <th>Product_Category_3</th>\n",
       "    </tr>\n",
       "  </thead>\n",
       "  <tbody>\n",
       "    <tr>\n",
       "      <th>0</th>\n",
       "      <td>0.571273</td>\n",
       "      <td>1.851862</td>\n",
       "      <td>-1.086166</td>\n",
       "      <td>1.258053</td>\n",
       "      <td>-1.440566</td>\n",
       "      <td>-0.831728</td>\n",
       "      <td>-0.102136</td>\n",
       "      <td>-0.137249</td>\n",
       "      <td>0.171369</td>\n",
       "    </tr>\n",
       "    <tr>\n",
       "      <th>1</th>\n",
       "      <td>-1.750475</td>\n",
       "      <td>1.112438</td>\n",
       "      <td>-1.086166</td>\n",
       "      <td>-0.056341</td>\n",
       "      <td>0.110807</td>\n",
       "      <td>-0.831728</td>\n",
       "      <td>-0.102136</td>\n",
       "      <td>-0.373790</td>\n",
       "      <td>-0.678602</td>\n",
       "    </tr>\n",
       "    <tr>\n",
       "      <th>2</th>\n",
       "      <td>0.571273</td>\n",
       "      <td>0.373014</td>\n",
       "      <td>-0.166679</td>\n",
       "      <td>-1.370736</td>\n",
       "      <td>-0.664880</td>\n",
       "      <td>-0.831728</td>\n",
       "      <td>0.660738</td>\n",
       "      <td>1.045455</td>\n",
       "      <td>0.171369</td>\n",
       "    </tr>\n",
       "    <tr>\n",
       "      <th>3</th>\n",
       "      <td>0.571273</td>\n",
       "      <td>-0.366410</td>\n",
       "      <td>-0.932918</td>\n",
       "      <td>-1.370736</td>\n",
       "      <td>-1.440566</td>\n",
       "      <td>-0.831728</td>\n",
       "      <td>-1.119301</td>\n",
       "      <td>-0.373790</td>\n",
       "      <td>0.171369</td>\n",
       "    </tr>\n",
       "    <tr>\n",
       "      <th>4</th>\n",
       "      <td>0.571273</td>\n",
       "      <td>-0.366410</td>\n",
       "      <td>1.825541</td>\n",
       "      <td>-1.370736</td>\n",
       "      <td>0.110807</td>\n",
       "      <td>1.202317</td>\n",
       "      <td>1.423612</td>\n",
       "      <td>-0.137249</td>\n",
       "      <td>0.171369</td>\n",
       "    </tr>\n",
       "  </tbody>\n",
       "</table>\n",
       "</div>"
      ],
      "text/plain": [
       "     Gender       Age  Occupation  City_Category  Stay_In_Current_City_Years  \\\n",
       "0  0.571273  1.851862   -1.086166       1.258053                   -1.440566   \n",
       "1 -1.750475  1.112438   -1.086166      -0.056341                    0.110807   \n",
       "2  0.571273  0.373014   -0.166679      -1.370736                   -0.664880   \n",
       "3  0.571273 -0.366410   -0.932918      -1.370736                   -1.440566   \n",
       "4  0.571273 -0.366410    1.825541      -1.370736                    0.110807   \n",
       "\n",
       "   Marital_Status  Product_Category_1  Product_Category_2  Product_Category_3  \n",
       "0       -0.831728           -0.102136           -0.137249            0.171369  \n",
       "1       -0.831728           -0.102136           -0.373790           -0.678602  \n",
       "2       -0.831728            0.660738            1.045455            0.171369  \n",
       "3       -0.831728           -1.119301           -0.373790            0.171369  \n",
       "4        1.202317            1.423612           -0.137249            0.171369  "
      ]
     },
     "execution_count": 31,
     "metadata": {},
     "output_type": "execute_result"
    }
   ],
   "source": [
    "xtrain.head()"
   ]
  },
  {
   "cell_type": "code",
   "execution_count": 32,
   "id": "f1417f11",
   "metadata": {},
   "outputs": [
    {
     "data": {
      "text/html": [
       "<div>\n",
       "<style scoped>\n",
       "    .dataframe tbody tr th:only-of-type {\n",
       "        vertical-align: middle;\n",
       "    }\n",
       "\n",
       "    .dataframe tbody tr th {\n",
       "        vertical-align: top;\n",
       "    }\n",
       "\n",
       "    .dataframe thead th {\n",
       "        text-align: right;\n",
       "    }\n",
       "</style>\n",
       "<table border=\"1\" class=\"dataframe\">\n",
       "  <thead>\n",
       "    <tr style=\"text-align: right;\">\n",
       "      <th></th>\n",
       "      <th>Gender</th>\n",
       "      <th>Age</th>\n",
       "      <th>Occupation</th>\n",
       "      <th>City_Category</th>\n",
       "      <th>Stay_In_Current_City_Years</th>\n",
       "      <th>Marital_Status</th>\n",
       "      <th>Product_Category_1</th>\n",
       "      <th>Product_Category_2</th>\n",
       "      <th>Product_Category_3</th>\n",
       "    </tr>\n",
       "  </thead>\n",
       "  <tbody>\n",
       "    <tr>\n",
       "      <th>0</th>\n",
       "      <td>0.571273</td>\n",
       "      <td>-1.105834</td>\n",
       "      <td>-0.626423</td>\n",
       "      <td>-0.056341</td>\n",
       "      <td>-0.664880</td>\n",
       "      <td>1.202317</td>\n",
       "      <td>0.660738</td>\n",
       "      <td>-0.137249</td>\n",
       "      <td>0.171369</td>\n",
       "    </tr>\n",
       "    <tr>\n",
       "      <th>1</th>\n",
       "      <td>0.571273</td>\n",
       "      <td>-0.366410</td>\n",
       "      <td>-1.239413</td>\n",
       "      <td>-1.370736</td>\n",
       "      <td>1.662180</td>\n",
       "      <td>-0.831728</td>\n",
       "      <td>0.406447</td>\n",
       "      <td>-0.137249</td>\n",
       "      <td>0.171369</td>\n",
       "    </tr>\n",
       "    <tr>\n",
       "      <th>2</th>\n",
       "      <td>0.571273</td>\n",
       "      <td>-0.366410</td>\n",
       "      <td>1.825541</td>\n",
       "      <td>-1.370736</td>\n",
       "      <td>0.110807</td>\n",
       "      <td>-0.831728</td>\n",
       "      <td>-0.102136</td>\n",
       "      <td>-0.137249</td>\n",
       "      <td>0.171369</td>\n",
       "    </tr>\n",
       "    <tr>\n",
       "      <th>3</th>\n",
       "      <td>-1.750475</td>\n",
       "      <td>-0.366410</td>\n",
       "      <td>-1.239413</td>\n",
       "      <td>-0.056341</td>\n",
       "      <td>0.110807</td>\n",
       "      <td>1.202317</td>\n",
       "      <td>-0.102136</td>\n",
       "      <td>1.045455</td>\n",
       "      <td>1.021339</td>\n",
       "    </tr>\n",
       "    <tr>\n",
       "      <th>4</th>\n",
       "      <td>0.571273</td>\n",
       "      <td>0.373014</td>\n",
       "      <td>0.446312</td>\n",
       "      <td>1.258053</td>\n",
       "      <td>1.662180</td>\n",
       "      <td>1.202317</td>\n",
       "      <td>0.152155</td>\n",
       "      <td>0.099291</td>\n",
       "      <td>1.021339</td>\n",
       "    </tr>\n",
       "  </tbody>\n",
       "</table>\n",
       "</div>"
      ],
      "text/plain": [
       "     Gender       Age  Occupation  City_Category  Stay_In_Current_City_Years  \\\n",
       "0  0.571273 -1.105834   -0.626423      -0.056341                   -0.664880   \n",
       "1  0.571273 -0.366410   -1.239413      -1.370736                    1.662180   \n",
       "2  0.571273 -0.366410    1.825541      -1.370736                    0.110807   \n",
       "3 -1.750475 -0.366410   -1.239413      -0.056341                    0.110807   \n",
       "4  0.571273  0.373014    0.446312       1.258053                    1.662180   \n",
       "\n",
       "   Marital_Status  Product_Category_1  Product_Category_2  Product_Category_3  \n",
       "0        1.202317            0.660738           -0.137249            0.171369  \n",
       "1       -0.831728            0.406447           -0.137249            0.171369  \n",
       "2       -0.831728           -0.102136           -0.137249            0.171369  \n",
       "3        1.202317           -0.102136            1.045455            1.021339  \n",
       "4        1.202317            0.152155            0.099291            1.021339  "
      ]
     },
     "execution_count": 32,
     "metadata": {},
     "output_type": "execute_result"
    }
   ],
   "source": [
    "xtest.head()"
   ]
  },
  {
   "cell_type": "markdown",
   "id": "26b003cb",
   "metadata": {},
   "source": [
    "## 1. LinearRegression"
   ]
  },
  {
   "cell_type": "code",
   "execution_count": 33,
   "id": "03572759",
   "metadata": {},
   "outputs": [
    {
     "name": "stdout",
     "output_type": "stream",
     "text": [
      "3588.1496415714623\n",
      "21972638.665007774\n",
      "4687.49812426712\n",
      "0.12800860993932384\n"
     ]
    }
   ],
   "source": [
    "from sklearn.linear_model import LinearRegression\n",
    "from sklearn.metrics import mean_absolute_error,mean_squared_error,r2_score\n",
    "\n",
    "Lr = LinearRegression()\n",
    "Lr.fit(xtrain,ytrain)\n",
    "\n",
    "y_pred = Lr.predict(xtest)\n",
    "\n",
    "\n",
    "print(mean_absolute_error(ytest,y_pred))\n",
    "print(mean_squared_error(ytest,y_pred))\n",
    "print(np.sqrt(mean_squared_error(ytest,y_pred)))\n",
    "print(r2_score(ytest,y_pred))"
   ]
  },
  {
   "cell_type": "code",
   "execution_count": 34,
   "id": "1992b1ee",
   "metadata": {},
   "outputs": [
    {
     "data": {
      "text/plain": [
       "273731     7848\n",
       "206530    20736\n",
       "271860     8674\n",
       "170162     5406\n",
       "412155    16096\n",
       "455831    15874\n",
       "390336     7103\n",
       "234108     5373\n",
       "188243     7976\n",
       "114036    11908\n",
       "Name: Purchase, dtype: int64"
      ]
     },
     "execution_count": 34,
     "metadata": {},
     "output_type": "execute_result"
    }
   ],
   "source": [
    "ytest[:10]"
   ]
  },
  {
   "cell_type": "code",
   "execution_count": 35,
   "id": "860086ca",
   "metadata": {},
   "outputs": [
    {
     "data": {
      "text/plain": [
       "array([ 8084.79538187,  8299.34153691,  9262.81988597,  8609.26208749,\n",
       "        9468.56006031, 11461.18950539,  9490.41346863,  9041.08018675,\n",
       "        7995.5911538 , 11361.36584349])"
      ]
     },
     "execution_count": 35,
     "metadata": {},
     "output_type": "execute_result"
    }
   ],
   "source": [
    "y_pred[:10]"
   ]
  },
  {
   "cell_type": "code",
   "execution_count": 37,
   "id": "bfc7f478",
   "metadata": {},
   "outputs": [
    {
     "data": {
      "text/plain": [
       "<AxesSubplot:xlabel='Purchase'>"
      ]
     },
     "execution_count": 37,
     "metadata": {},
     "output_type": "execute_result"
    },
    {
     "data": {
      "image/png": "[encoded data removed]",
      "text/plain": [
       "<Figure size 432x288 with 1 Axes>"
      ]
     },
     "metadata": {
      "needs_background": "light"
     },
     "output_type": "display_data"
    }
   ],
   "source": [
    "sns.regplot(ytest[:100],y_pred[:100])"
   ]
  },
  {
   "cell_type": "markdown",
   "id": "2496b2e5",
   "metadata": {},
   "source": [
    "## 2. Neural Network"
   ]
  },
  {
   "cell_type": "code",
   "execution_count": 42,
   "id": "bb608176",
   "metadata": {},
   "outputs": [],
   "source": [
    "from keras import Sequential\n",
    "from keras.layers import Dense,Dropout\n",
    "from keras.callbacks import EarlyStopping"
   ]
  },
  {
   "cell_type": "code",
   "execution_count": 43,
   "id": "51b2e90e",
   "metadata": {},
   "outputs": [],
   "source": [
    "nn = Sequential()"
   ]
  },
  {
   "cell_type": "code",
   "execution_count": 44,
   "id": "4475451a",
   "metadata": {},
   "outputs": [],
   "source": [
    "nn.add(Dense(128,input_dim=xtrain.shape[1],activation=\"relu\"))\n",
    "nn.add(Dense(64,activation=\"relu\"))\n",
    "nn.add(Dense(1,activation=\"linear\"))"
   ]
  },
  {
   "cell_type": "code",
   "execution_count": 45,
   "id": "3d1bafe0",
   "metadata": {},
   "outputs": [
    {
     "name": "stdout",
     "output_type": "stream",
     "text": [
      "Model: \"sequential\"\n",
      "_________________________________________________________________\n",
      " Layer (type)                Output Shape              Param #   \n",
      "=================================================================\n",
      " dense (Dense)               (None, 128)               1280      \n",
      "                                                                 \n",
      " dense_1 (Dense)             (None, 64)                8256      \n",
      "                                                                 \n",
      " dense_2 (Dense)             (None, 1)                 65        \n",
      "                                                                 \n",
      "=================================================================\n",
      "Total params: 9,601\n",
      "Trainable params: 9,601\n",
      "Non-trainable params: 0\n",
      "_________________________________________________________________\n"
     ]
    }
   ],
   "source": [
    "nn.summary()"
   ]
  },
  {
   "cell_type": "markdown",
   "id": "d5a5bc6c",
   "metadata": {},
   "source": [
    "## Compile"
   ]
  },
  {
   "cell_type": "code",
   "execution_count": 46,
   "id": "4896f05f",
   "metadata": {},
   "outputs": [],
   "source": [
    "nn.compile(loss=\"mse\",optimizer=\"adam\",metrics=[\"mae\"])"
   ]
  },
  {
   "cell_type": "code",
   "execution_count": 47,
   "id": "e3f194c1",
   "metadata": {},
   "outputs": [
    {
     "name": "stdout",
     "output_type": "stream",
     "text": [
      "Epoch 1/20\n",
      "8423/8423 [==============================] - 41s 5ms/step - loss: 24321370.0000 - mae: 3647.8613 - val_loss: 18972036.0000 - val_mae: 3241.5093\n",
      "Epoch 2/20\n",
      "8423/8423 [==============================] - 38s 5ms/step - loss: 18521682.0000 - mae: 3189.8879 - val_loss: 18028144.0000 - val_mae: 3125.4355\n",
      "Epoch 3/20\n",
      "8423/8423 [==============================] - 38s 5ms/step - loss: 17900900.0000 - mae: 3103.5884 - val_loss: 17622536.0000 - val_mae: 3066.6267\n",
      "Epoch 4/20\n",
      "8423/8423 [==============================] - 38s 4ms/step - loss: 17490196.0000 - mae: 3054.3906 - val_loss: 17126976.0000 - val_mae: 3013.6213\n",
      "Epoch 5/20\n",
      "8423/8423 [==============================] - 38s 4ms/step - loss: 16773975.0000 - mae: 2993.6868 - val_loss: 16235242.0000 - val_mae: 2953.8774\n",
      "Epoch 6/20\n",
      "8423/8423 [==============================] - 38s 4ms/step - loss: 15917584.0000 - mae: 2946.3860 - val_loss: 15503273.0000 - val_mae: 2911.7297\n",
      "Epoch 7/20\n",
      "8423/8423 [==============================] - 38s 5ms/step - loss: 15252851.0000 - mae: 2896.7944 - val_loss: 14807827.0000 - val_mae: 2856.5488\n",
      "Epoch 8/20\n",
      "8423/8423 [==============================] - 38s 5ms/step - loss: 14581839.0000 - mae: 2830.6658 - val_loss: 14222052.0000 - val_mae: 2810.4058\n",
      "Epoch 9/20\n",
      "8423/8423 [==============================] - 38s 5ms/step - loss: 14112728.0000 - mae: 2784.2422 - val_loss: 13830785.0000 - val_mae: 2753.9683\n",
      "Epoch 10/20\n",
      "8423/8423 [==============================] - 38s 5ms/step - loss: 13773369.0000 - mae: 2750.6042 - val_loss: 13554436.0000 - val_mae: 2747.4749\n",
      "Epoch 11/20\n",
      "8423/8423 [==============================] - 38s 4ms/step - loss: 13452023.0000 - mae: 2721.9089 - val_loss: 13197300.0000 - val_mae: 2709.9873\n",
      "Epoch 12/20\n",
      "8423/8423 [==============================] - 38s 5ms/step - loss: 13151533.0000 - mae: 2694.6121 - val_loss: 12892991.0000 - val_mae: 2673.3489\n",
      "Epoch 13/20\n",
      "8423/8423 [==============================] - 39s 5ms/step - loss: 12901052.0000 - mae: 2669.3164 - val_loss: 12711092.0000 - val_mae: 2637.6416\n",
      "Epoch 14/20\n",
      "8423/8423 [==============================] - 38s 5ms/step - loss: 12697782.0000 - mae: 2645.8191 - val_loss: 12483247.0000 - val_mae: 2625.6936\n",
      "Epoch 15/20\n",
      "8423/8423 [==============================] - 39s 5ms/step - loss: 12534847.0000 - mae: 2626.3418 - val_loss: 12340113.0000 - val_mae: 2606.4028\n",
      "Epoch 16/20\n",
      "8423/8423 [==============================] - 38s 5ms/step - loss: 12388535.0000 - mae: 2607.3345 - val_loss: 12281371.0000 - val_mae: 2610.1472\n",
      "Epoch 17/20\n",
      "8423/8423 [==============================] - 38s 4ms/step - loss: 12266456.0000 - mae: 2594.1533 - val_loss: 12147908.0000 - val_mae: 2590.9919\n",
      "Epoch 18/20\n",
      "8423/8423 [==============================] - 38s 5ms/step - loss: 12151373.0000 - mae: 2580.0056 - val_loss: 12008403.0000 - val_mae: 2574.2190\n",
      "Epoch 19/20\n",
      "8423/8423 [==============================] - 37s 4ms/step - loss: 12050664.0000 - mae: 2568.2336 - val_loss: 11878238.0000 - val_mae: 2553.9099\n",
      "Epoch 20/20\n",
      "8423/8423 [==============================] - 37s 4ms/step - loss: 11957274.0000 - mae: 2557.6196 - val_loss: 11824518.0000 - val_mae: 2531.5408\n"
     ]
    }
   ],
   "source": [
    "hist = nn.fit(xtrain,ytrain,validation_split=0.3,epochs=20)"
   ]
  },
  {
   "cell_type": "markdown",
   "id": "fe39fcab",
   "metadata": {},
   "source": [
    "## Learning Curve"
   ]
  },
  {
   "cell_type": "code",
   "execution_count": 135,
   "id": "cd501373",
   "metadata": {},
   "outputs": [
    {
     "data": {
      "image/png": "[encoded data removed]",
      "text/plain": [
       "<Figure size 1152x576 with 1 Axes>"
      ]
     },
     "metadata": {
      "needs_background": "light"
     },
     "output_type": "display_data"
    }
   ],
   "source": [
    "plt.figure(figsize=(16,8))\n",
    "plt.plot(hist.history[\"loss\"],color= \"b\")\n",
    "plt.plot(hist.history[\"val_loss\"],color=\"r\")\n",
    "plt.xlabel('Epochs')\n",
    "plt.ylabel('Loss Function or MSE')\n",
    "plt.title('Learning Curve')\n",
    "plt.show()"
   ]
  },
  {
   "cell_type": "code",
   "execution_count": 134,
   "id": "3e3ffd10",
   "metadata": {},
   "outputs": [
    {
     "data": {
      "image/png": "[encoded data removed]",
      "text/plain": [
       "<Figure size 1152x576 with 1 Axes>"
      ]
     },
     "metadata": {
      "needs_background": "light"
     },
     "output_type": "display_data"
    }
   ],
   "source": [
    "plt.figure(figsize=(16,8))\n",
    "plt.plot(hist.history[\"mae\"],color = \"b\")\n",
    "plt.plot(hist.history[\"val_mae\"],color=\"r\")\n",
    "plt.xlabel('Epochs')\n",
    "plt.ylabel('MAE or val_MAE')\n",
    "plt.title('Learning Curve')\n",
    "plt.show()"
   ]
  },
  {
   "cell_type": "markdown",
   "id": "64e13804",
   "metadata": {},
   "source": [
    "## Evaluate"
   ]
  },
  {
   "cell_type": "code",
   "execution_count": 51,
   "id": "9c0c246e",
   "metadata": {},
   "outputs": [
    {
     "name": "stdout",
     "output_type": "stream",
     "text": [
      "12033/12033 [==============================] - 32s 3ms/step - loss: 11887353.0000 - mae: 2538.5452\n"
     ]
    },
    {
     "data": {
      "text/plain": [
       "[11887353.0, 2538.545166015625]"
      ]
     },
     "execution_count": 51,
     "metadata": {},
     "output_type": "execute_result"
    }
   ],
   "source": [
    "nn.evaluate(xtrain,ytrain)"
   ]
  },
  {
   "cell_type": "code",
   "execution_count": 52,
   "id": "739dbd33",
   "metadata": {},
   "outputs": [
    {
     "name": "stdout",
     "output_type": "stream",
     "text": [
      "5157/5157 [==============================] - 15s 3ms/step - loss: 11841179.0000 - mae: 2534.4595\n"
     ]
    },
    {
     "data": {
      "text/plain": [
       "[11841179.0, 2534.45947265625]"
      ]
     },
     "execution_count": 52,
     "metadata": {},
     "output_type": "execute_result"
    }
   ],
   "source": [
    "nn.evaluate(xtest,ytest)"
   ]
  },
  {
   "cell_type": "markdown",
   "id": "20896ffd",
   "metadata": {},
   "source": [
    "# prediction"
   ]
  },
  {
   "cell_type": "code",
   "execution_count": 54,
   "id": "1dc944c6",
   "metadata": {},
   "outputs": [
    {
     "name": "stdout",
     "output_type": "stream",
     "text": [
      "12033/12033 [==============================] - 27s 2ms/step\n",
      "5157/5157 [==============================] - 11s 2ms/step\n"
     ]
    }
   ],
   "source": [
    "y_train_pred = nn.predict(xtrain)\n",
    "y_test_pred = nn.predict(xtest)"
   ]
  },
  {
   "cell_type": "code",
   "execution_count": 55,
   "id": "9ece8cd5",
   "metadata": {},
   "outputs": [
    {
     "data": {
      "text/plain": [
       "array([[ 6572.4434],\n",
       "       [ 6796.7656],\n",
       "       [ 7346.4585],\n",
       "       [13108.828 ],\n",
       "       [ 5343.0996],\n",
       "       [13918.233 ],\n",
       "       [ 7585.059 ],\n",
       "       [14390.068 ],\n",
       "       [14349.032 ],\n",
       "       [ 7532.059 ]], dtype=float32)"
      ]
     },
     "execution_count": 55,
     "metadata": {},
     "output_type": "execute_result"
    }
   ],
   "source": [
    "y_train_pred[:10]"
   ]
  },
  {
   "cell_type": "code",
   "execution_count": 58,
   "id": "e338b4db",
   "metadata": {},
   "outputs": [
    {
     "data": {
      "text/plain": [
       "array([[ 7542.8086],\n",
       "       [13757.919 ],\n",
       "       [ 6350.5684],\n",
       "       [ 6323.032 ],\n",
       "       [15639.94  ],\n",
       "       [13835.197 ],\n",
       "       [ 6495.865 ],\n",
       "       [ 6136.386 ],\n",
       "       [ 7954.06  ],\n",
       "       [14170.652 ]], dtype=float32)"
      ]
     },
     "execution_count": 58,
     "metadata": {},
     "output_type": "execute_result"
    }
   ],
   "source": [
    "y_test_pred[:10]"
   ]
  },
  {
   "cell_type": "code",
   "execution_count": 59,
   "id": "bb354d82",
   "metadata": {},
   "outputs": [
    {
     "data": {
      "text/plain": [
       "273731     7848\n",
       "206530    20736\n",
       "271860     8674\n",
       "170162     5406\n",
       "412155    16096\n",
       "455831    15874\n",
       "390336     7103\n",
       "234108     5373\n",
       "188243     7976\n",
       "114036    11908\n",
       "Name: Purchase, dtype: int64"
      ]
     },
     "execution_count": 59,
     "metadata": {},
     "output_type": "execute_result"
    }
   ],
   "source": [
    "ytest[:10]"
   ]
  },
  {
   "cell_type": "markdown",
   "id": "74e758ee",
   "metadata": {},
   "source": [
    "## Metrics"
   ]
  },
  {
   "cell_type": "code",
   "execution_count": 63,
   "id": "86e0eacb",
   "metadata": {},
   "outputs": [
    {
     "name": "stdout",
     "output_type": "stream",
     "text": [
      "2534.4623105136934\n",
      "11841178.341413965\n",
      "3441.1013268158736\n",
      "0.5300789441220128\n"
     ]
    }
   ],
   "source": [
    "print(mean_absolute_error(ytest,y_test_pred))\n",
    "print(mean_squared_error(ytest,y_test_pred))\n",
    "print(np.sqrt(mean_squared_error(ytest,y_test_pred)))\n",
    "print(r2_score(ytest,y_test_pred))"
   ]
  },
  {
   "cell_type": "code",
   "execution_count": 64,
   "id": "fa255516",
   "metadata": {},
   "outputs": [
    {
     "name": "stdout",
     "output_type": "stream",
     "text": [
      "2538.5450880912294\n",
      "11887351.377277799\n",
      "3447.8038484342173\n",
      "0.5291224696912427\n"
     ]
    }
   ],
   "source": [
    "print(mean_absolute_error(ytrain,y_train_pred))\n",
    "print(mean_squared_error(ytrain,y_train_pred))\n",
    "print(np.sqrt(mean_squared_error(ytrain,y_train_pred)))\n",
    "print(r2_score(ytrain,y_train_pred))"
   ]
  },
  {
   "cell_type": "markdown",
   "id": "ff8b2e99",
   "metadata": {},
   "source": [
    "## Test_datset"
   ]
  },
  {
   "cell_type": "code",
   "execution_count": 109,
   "id": "3d2308a6",
   "metadata": {},
   "outputs": [],
   "source": [
    "test_datset = pd.read_csv(r\"C:\\Users\\Dell\\Downloads\\black firday sales\\test.csv\")"
   ]
  },
  {
   "cell_type": "code",
   "execution_count": 111,
   "id": "ee20dc4d",
   "metadata": {},
   "outputs": [
    {
     "data": {
      "text/html": [
       "<div>\n",
       "<style scoped>\n",
       "    .dataframe tbody tr th:only-of-type {\n",
       "        vertical-align: middle;\n",
       "    }\n",
       "\n",
       "    .dataframe tbody tr th {\n",
       "        vertical-align: top;\n",
       "    }\n",
       "\n",
       "    .dataframe thead th {\n",
       "        text-align: right;\n",
       "    }\n",
       "</style>\n",
       "<table border=\"1\" class=\"dataframe\">\n",
       "  <thead>\n",
       "    <tr style=\"text-align: right;\">\n",
       "      <th></th>\n",
       "      <th>User_ID</th>\n",
       "      <th>Product_ID</th>\n",
       "      <th>Gender</th>\n",
       "      <th>Age</th>\n",
       "      <th>Occupation</th>\n",
       "      <th>City_Category</th>\n",
       "      <th>Stay_In_Current_City_Years</th>\n",
       "      <th>Marital_Status</th>\n",
       "      <th>Product_Category_1</th>\n",
       "      <th>Product_Category_2</th>\n",
       "      <th>Product_Category_3</th>\n",
       "    </tr>\n",
       "  </thead>\n",
       "  <tbody>\n",
       "    <tr>\n",
       "      <th>0</th>\n",
       "      <td>1000004</td>\n",
       "      <td>P00128942</td>\n",
       "      <td>M</td>\n",
       "      <td>46-50</td>\n",
       "      <td>7</td>\n",
       "      <td>B</td>\n",
       "      <td>2</td>\n",
       "      <td>1</td>\n",
       "      <td>1</td>\n",
       "      <td>11.0</td>\n",
       "      <td>NaN</td>\n",
       "    </tr>\n",
       "    <tr>\n",
       "      <th>1</th>\n",
       "      <td>1000009</td>\n",
       "      <td>P00113442</td>\n",
       "      <td>M</td>\n",
       "      <td>26-35</td>\n",
       "      <td>17</td>\n",
       "      <td>C</td>\n",
       "      <td>0</td>\n",
       "      <td>0</td>\n",
       "      <td>3</td>\n",
       "      <td>5.0</td>\n",
       "      <td>NaN</td>\n",
       "    </tr>\n",
       "    <tr>\n",
       "      <th>2</th>\n",
       "      <td>1000010</td>\n",
       "      <td>P00288442</td>\n",
       "      <td>F</td>\n",
       "      <td>36-45</td>\n",
       "      <td>1</td>\n",
       "      <td>B</td>\n",
       "      <td>4+</td>\n",
       "      <td>1</td>\n",
       "      <td>5</td>\n",
       "      <td>14.0</td>\n",
       "      <td>NaN</td>\n",
       "    </tr>\n",
       "    <tr>\n",
       "      <th>3</th>\n",
       "      <td>1000010</td>\n",
       "      <td>P00145342</td>\n",
       "      <td>F</td>\n",
       "      <td>36-45</td>\n",
       "      <td>1</td>\n",
       "      <td>B</td>\n",
       "      <td>4+</td>\n",
       "      <td>1</td>\n",
       "      <td>4</td>\n",
       "      <td>9.0</td>\n",
       "      <td>NaN</td>\n",
       "    </tr>\n",
       "    <tr>\n",
       "      <th>4</th>\n",
       "      <td>1000011</td>\n",
       "      <td>P00053842</td>\n",
       "      <td>F</td>\n",
       "      <td>26-35</td>\n",
       "      <td>1</td>\n",
       "      <td>C</td>\n",
       "      <td>1</td>\n",
       "      <td>0</td>\n",
       "      <td>4</td>\n",
       "      <td>5.0</td>\n",
       "      <td>12.0</td>\n",
       "    </tr>\n",
       "  </tbody>\n",
       "</table>\n",
       "</div>"
      ],
      "text/plain": [
       "   User_ID Product_ID Gender    Age  Occupation City_Category  \\\n",
       "0  1000004  P00128942      M  46-50           7             B   \n",
       "1  1000009  P00113442      M  26-35          17             C   \n",
       "2  1000010  P00288442      F  36-45           1             B   \n",
       "3  1000010  P00145342      F  36-45           1             B   \n",
       "4  1000011  P00053842      F  26-35           1             C   \n",
       "\n",
       "  Stay_In_Current_City_Years  Marital_Status  Product_Category_1  \\\n",
       "0                          2               1                   1   \n",
       "1                          0               0                   3   \n",
       "2                         4+               1                   5   \n",
       "3                         4+               1                   4   \n",
       "4                          1               0                   4   \n",
       "\n",
       "   Product_Category_2  Product_Category_3  \n",
       "0                11.0                 NaN  \n",
       "1                 5.0                 NaN  \n",
       "2                14.0                 NaN  \n",
       "3                 9.0                 NaN  \n",
       "4                 5.0                12.0  "
      ]
     },
     "execution_count": 111,
     "metadata": {},
     "output_type": "execute_result"
    }
   ],
   "source": [
    "test_datset.head()"
   ]
  },
  {
   "cell_type": "code",
   "execution_count": 112,
   "id": "747d1812",
   "metadata": {},
   "outputs": [],
   "source": [
    "#missing value fill\n",
    "test_datset[\"Product_Category_2\"] = test_datset[\"Product_Category_2\"].fillna(test_datset[\"Product_Category_2\"].median())\n",
    "test_datset[\"Product_Category_3\"] = test_datset[\"Product_Category_3\"].fillna(test_datset[\"Product_Category_3\"].median())"
   ]
  },
  {
   "cell_type": "code",
   "execution_count": 113,
   "id": "5f1175c4",
   "metadata": {},
   "outputs": [],
   "source": [
    "# OrdinalEncoder in this liberies is used to convert categorical column to binary numbers\n",
    "\n",
    "cat_col = ['Gender', 'Age', 'City_Category','Stay_In_Current_City_Years']\n",
    "from sklearn.preprocessing import OrdinalEncoder\n",
    "\n",
    "encoding = OrdinalEncoder()\n",
    "test_datset[cat_col] = encoding.fit_transform(test_datset[cat_col])"
   ]
  },
  {
   "cell_type": "code",
   "execution_count": 115,
   "id": "de23c633",
   "metadata": {},
   "outputs": [],
   "source": [
    "#test data defind\n",
    "final_test_data = test_datset.iloc[:,2:]"
   ]
  },
  {
   "cell_type": "code",
   "execution_count": 119,
   "id": "a929f30d",
   "metadata": {},
   "outputs": [],
   "source": [
    "# scaling data\n",
    "from sklearn.preprocessing import StandardScaler\n",
    "\n",
    "scaler = StandardScaler()\n",
    "final_test_data = pd.DataFrame(scaler.fit_transform(final_test_data),columns=final_test_data.columns)"
   ]
  },
  {
   "cell_type": "code",
   "execution_count": 121,
   "id": "622a73f7",
   "metadata": {},
   "outputs": [
    {
     "data": {
      "text/html": [
       "<div>\n",
       "<style scoped>\n",
       "    .dataframe tbody tr th:only-of-type {\n",
       "        vertical-align: middle;\n",
       "    }\n",
       "\n",
       "    .dataframe tbody tr th {\n",
       "        vertical-align: top;\n",
       "    }\n",
       "\n",
       "    .dataframe thead th {\n",
       "        text-align: right;\n",
       "    }\n",
       "</style>\n",
       "<table border=\"1\" class=\"dataframe\">\n",
       "  <thead>\n",
       "    <tr style=\"text-align: right;\">\n",
       "      <th></th>\n",
       "      <th>Gender</th>\n",
       "      <th>Age</th>\n",
       "      <th>Occupation</th>\n",
       "      <th>City_Category</th>\n",
       "      <th>Stay_In_Current_City_Years</th>\n",
       "      <th>Marital_Status</th>\n",
       "      <th>Product_Category_1</th>\n",
       "      <th>Product_Category_2</th>\n",
       "      <th>Product_Category_3</th>\n",
       "    </tr>\n",
       "  </thead>\n",
       "  <tbody>\n",
       "    <tr>\n",
       "      <th>0</th>\n",
       "      <td>0.573575</td>\n",
       "      <td>1.112316</td>\n",
       "      <td>-0.166445</td>\n",
       "      <td>-0.056309</td>\n",
       "      <td>0.110432</td>\n",
       "      <td>1.199419</td>\n",
       "      <td>-1.144571</td>\n",
       "      <td>0.332493</td>\n",
       "      <td>0.171729</td>\n",
       "    </tr>\n",
       "    <tr>\n",
       "      <th>1</th>\n",
       "      <td>0.573575</td>\n",
       "      <td>-0.368480</td>\n",
       "      <td>1.367031</td>\n",
       "      <td>1.261046</td>\n",
       "      <td>-1.443264</td>\n",
       "      <td>-0.833737</td>\n",
       "      <td>-0.609292</td>\n",
       "      <td>-1.078842</td>\n",
       "      <td>0.171729</td>\n",
       "    </tr>\n",
       "    <tr>\n",
       "      <th>2</th>\n",
       "      <td>-1.743450</td>\n",
       "      <td>0.371918</td>\n",
       "      <td>-1.086530</td>\n",
       "      <td>-0.056309</td>\n",
       "      <td>1.664128</td>\n",
       "      <td>1.199419</td>\n",
       "      <td>-0.074014</td>\n",
       "      <td>1.038161</td>\n",
       "      <td>0.171729</td>\n",
       "    </tr>\n",
       "    <tr>\n",
       "      <th>3</th>\n",
       "      <td>-1.743450</td>\n",
       "      <td>0.371918</td>\n",
       "      <td>-1.086530</td>\n",
       "      <td>-0.056309</td>\n",
       "      <td>1.664128</td>\n",
       "      <td>1.199419</td>\n",
       "      <td>-0.341653</td>\n",
       "      <td>-0.137952</td>\n",
       "      <td>0.171729</td>\n",
       "    </tr>\n",
       "    <tr>\n",
       "      <th>4</th>\n",
       "      <td>-1.743450</td>\n",
       "      <td>-0.368480</td>\n",
       "      <td>-1.086530</td>\n",
       "      <td>1.261046</td>\n",
       "      <td>-0.666416</td>\n",
       "      <td>-0.833737</td>\n",
       "      <td>-0.341653</td>\n",
       "      <td>-1.078842</td>\n",
       "      <td>-0.677120</td>\n",
       "    </tr>\n",
       "  </tbody>\n",
       "</table>\n",
       "</div>"
      ],
      "text/plain": [
       "     Gender       Age  Occupation  City_Category  Stay_In_Current_City_Years  \\\n",
       "0  0.573575  1.112316   -0.166445      -0.056309                    0.110432   \n",
       "1  0.573575 -0.368480    1.367031       1.261046                   -1.443264   \n",
       "2 -1.743450  0.371918   -1.086530      -0.056309                    1.664128   \n",
       "3 -1.743450  0.371918   -1.086530      -0.056309                    1.664128   \n",
       "4 -1.743450 -0.368480   -1.086530       1.261046                   -0.666416   \n",
       "\n",
       "   Marital_Status  Product_Category_1  Product_Category_2  Product_Category_3  \n",
       "0        1.199419           -1.144571            0.332493            0.171729  \n",
       "1       -0.833737           -0.609292           -1.078842            0.171729  \n",
       "2        1.199419           -0.074014            1.038161            0.171729  \n",
       "3        1.199419           -0.341653           -0.137952            0.171729  \n",
       "4       -0.833737           -0.341653           -1.078842           -0.677120  "
      ]
     },
     "execution_count": 121,
     "metadata": {},
     "output_type": "execute_result"
    }
   ],
   "source": [
    "final_test_data.head()"
   ]
  },
  {
   "cell_type": "markdown",
   "id": "f9b3960f",
   "metadata": {},
   "source": [
    "## predictiton test data"
   ]
  },
  {
   "cell_type": "code",
   "execution_count": 122,
   "id": "f09fb014",
   "metadata": {},
   "outputs": [
    {
     "name": "stdout",
     "output_type": "stream",
     "text": [
      "7300/7300 [==============================] - 6s 878us/step\n"
     ]
    }
   ],
   "source": [
    "final_test_data_pred = nn.predict(final_test_data)"
   ]
  },
  {
   "cell_type": "code",
   "execution_count": 124,
   "id": "016e6cde",
   "metadata": {},
   "outputs": [],
   "source": [
    "# convert Datafram\n",
    "final_test_data_pred = pd.DataFrame(final_test_data_pred,columns=[\"Prediction\"])"
   ]
  },
  {
   "cell_type": "code",
   "execution_count": 125,
   "id": "7b97096c",
   "metadata": {},
   "outputs": [],
   "source": [
    "# marge to prediction columne and testdata\n",
    "final_output = pd.concat([test_datset,final_test_data_pred],axis=1)"
   ]
  },
  {
   "cell_type": "code",
   "execution_count": 129,
   "id": "04729123",
   "metadata": {},
   "outputs": [
    {
     "data": {
      "text/html": [
       "<div>\n",
       "<style scoped>\n",
       "    .dataframe tbody tr th:only-of-type {\n",
       "        vertical-align: middle;\n",
       "    }\n",
       "\n",
       "    .dataframe tbody tr th {\n",
       "        vertical-align: top;\n",
       "    }\n",
       "\n",
       "    .dataframe thead th {\n",
       "        text-align: right;\n",
       "    }\n",
       "</style>\n",
       "<table border=\"1\" class=\"dataframe\">\n",
       "  <thead>\n",
       "    <tr style=\"text-align: right;\">\n",
       "      <th></th>\n",
       "      <th>User_ID</th>\n",
       "      <th>Product_ID</th>\n",
       "      <th>Prediction</th>\n",
       "    </tr>\n",
       "  </thead>\n",
       "  <tbody>\n",
       "    <tr>\n",
       "      <th>0</th>\n",
       "      <td>1000004</td>\n",
       "      <td>P00128942</td>\n",
       "      <td>13603.174805</td>\n",
       "    </tr>\n",
       "    <tr>\n",
       "      <th>1</th>\n",
       "      <td>1000009</td>\n",
       "      <td>P00113442</td>\n",
       "      <td>8495.898438</td>\n",
       "    </tr>\n",
       "    <tr>\n",
       "      <th>2</th>\n",
       "      <td>1000010</td>\n",
       "      <td>P00288442</td>\n",
       "      <td>7001.810547</td>\n",
       "    </tr>\n",
       "    <tr>\n",
       "      <th>3</th>\n",
       "      <td>1000010</td>\n",
       "      <td>P00145342</td>\n",
       "      <td>4122.464355</td>\n",
       "    </tr>\n",
       "    <tr>\n",
       "      <th>4</th>\n",
       "      <td>1000011</td>\n",
       "      <td>P00053842</td>\n",
       "      <td>5097.534180</td>\n",
       "    </tr>\n",
       "  </tbody>\n",
       "</table>\n",
       "</div>"
      ],
      "text/plain": [
       "   User_ID Product_ID    Prediction\n",
       "0  1000004  P00128942  13603.174805\n",
       "1  1000009  P00113442   8495.898438\n",
       "2  1000010  P00288442   7001.810547\n",
       "3  1000010  P00145342   4122.464355\n",
       "4  1000011  P00053842   5097.534180"
      ]
     },
     "execution_count": 129,
     "metadata": {},
     "output_type": "execute_result"
    }
   ],
   "source": [
    "final_submission= final_output[[\"User_ID\",\"Product_ID\",\"Prediction\"]]\n",
    "final_submission.head()"
   ]
  },
  {
   "cell_type": "code",
   "execution_count": 130,
   "id": "5326a5fb",
   "metadata": {},
   "outputs": [],
   "source": [
    "final_submission.to_csv(\"final_submission.csv\",index=False)"
   ]
  },
  {
   "cell_type": "code",
   "execution_count": null,
   "id": "d61330e7",
   "metadata": {},
   "outputs": [],
   "source": []
  }
 ],
 "metadata": {
  "kernelspec": {
   "display_name": "Python 3 (ipykernel)",
   "language": "python",
   "name": "python3"
  },
  "language_info": {
   "codemirror_mode": {
    "name": "ipython",
    "version": 3
   },
   "file_extension": ".py",
   "mimetype": "text/x-python",
   "name": "python",
   "nbconvert_exporter": "python",
   "pygments_lexer": "ipython3",
   "version": "3.9.12"
  }
 },
 "nbformat": 4,
 "nbformat_minor": 5
}
